{
  "nbformat": 4,
  "nbformat_minor": 0,
  "metadata": {
    "colab": {
      "name": "food11colab.ipynb",
      "version": "0.3.2",
      "provenance": []
    },
    "kernelspec": {
      "name": "python3",
      "display_name": "Python 3"
    },
    "accelerator": "GPU"
  },
  "cells": [
    {
      "metadata": {
        "id": "BLpdMbOAsWC4",
        "colab_type": "code",
        "colab": {
          "base_uri": "https://localhost:8080/",
          "height": 360
        },
        "outputId": "32b3f9b7-610f-4b46-b2b8-c57d7f9e7cde"
      },
      "cell_type": "code",
      "source": [
        "!pip install kaggle"
      ],
      "execution_count": 0,
      "outputs": [
        {
          "output_type": "stream",
          "text": [
            "Collecting kaggle\n",
            "\u001b[?25l  Downloading https://files.pythonhosted.org/packages/93/11/f7bc11a9527c52a31695816e7f38d421d8da0d096beff3fa2638dfbd4d95/kaggle-1.4.2.tar.gz (43kB)\n",
            "\u001b[K    100% |████████████████████████████████| 51kB 2.5MB/s \n",
            "\u001b[?25hRequirement already satisfied: urllib3<1.23.0,>=1.15 in /usr/local/lib/python3.6/dist-packages (from kaggle) (1.22)\n",
            "Requirement already satisfied: six>=1.10 in /usr/local/lib/python3.6/dist-packages (from kaggle) (1.11.0)\n",
            "Requirement already satisfied: certifi in /usr/local/lib/python3.6/dist-packages (from kaggle) (2018.4.16)\n",
            "Requirement already satisfied: python-dateutil in /usr/local/lib/python3.6/dist-packages (from kaggle) (2.5.3)\n",
            "Requirement already satisfied: requests in /usr/local/lib/python3.6/dist-packages (from kaggle) (2.18.4)\n",
            "Collecting tqdm (from kaggle)\n",
            "\u001b[?25l  Downloading https://files.pythonhosted.org/packages/93/24/6ab1df969db228aed36a648a8959d1027099ce45fad67532b9673d533318/tqdm-4.23.4-py2.py3-none-any.whl (42kB)\n",
            "\u001b[K    100% |████████████████████████████████| 51kB 5.9MB/s \n",
            "\u001b[?25hRequirement already satisfied: idna<2.7,>=2.5 in /usr/local/lib/python3.6/dist-packages (from requests->kaggle) (2.6)\n",
            "Requirement already satisfied: chardet<3.1.0,>=3.0.2 in /usr/local/lib/python3.6/dist-packages (from requests->kaggle) (3.0.4)\n",
            "Building wheels for collected packages: kaggle\n",
            "  Running setup.py bdist_wheel for kaggle ... \u001b[?25l-\b \b\\\b \bdone\n",
            "\u001b[?25h  Stored in directory: /content/.cache/pip/wheels/3b/8e/14/adcbb71d126f5fb939fec8aa81394450922c20eee876bf8882\n",
            "Successfully built kaggle\n",
            "Installing collected packages: tqdm, kaggle\n",
            "Successfully installed kaggle-1.4.2 tqdm-4.23.4\n"
          ],
          "name": "stdout"
        }
      ]
    },
    {
      "metadata": {
        "id": "4AHYJy-asl20",
        "colab_type": "code",
        "colab": {}
      },
      "cell_type": "code",
      "source": [
        "from googleapiclient.discovery import build\n",
        "import io, os\n",
        "from googleapiclient.http import MediaIoBaseDownload\n",
        "from google.colab import auth"
      ],
      "execution_count": 0,
      "outputs": []
    },
    {
      "metadata": {
        "id": "lDpF6Fu2ssp-",
        "colab_type": "code",
        "colab": {
          "base_uri": "https://localhost:8080/",
          "height": 34
        },
        "outputId": "c63606b7-23bb-47b0-919c-1d7e8b88c7d0"
      },
      "cell_type": "code",
      "source": [
        "auth.authenticate_user()\n",
        "drive_service = build('drive', 'v3')\n",
        "results = drive_service.files().list(\n",
        "        q=\"name = 'kaggle.json'\", fields=\"files(id)\").execute()\n",
        "kaggle_api_key = results.get('files', [])\n",
        "filename = \"/content/.kaggle/kaggle.json\"\n",
        "os.makedirs(os.path.dirname(filename), exist_ok=True)\n",
        "request = drive_service.files().get_media(fileId=kaggle_api_key[0]['id'])\n",
        "fh = io.FileIO(filename, 'wb')\n",
        "downloader = MediaIoBaseDownload(fh, request)\n",
        "done = False\n",
        "while done is False:\n",
        "    status, done = downloader.next_chunk()\n",
        "    print(\"Download %d%%.\" % int(status.progress() * 100))\n",
        "os.chmod(filename, 600)"
      ],
      "execution_count": 0,
      "outputs": [
        {
          "output_type": "stream",
          "text": [
            "Download 100%.\n"
          ],
          "name": "stdout"
        }
      ]
    },
    {
      "metadata": {
        "id": "XXIUH2jQsvbZ",
        "colab_type": "code",
        "colab": {
          "base_uri": "https://localhost:8080/",
          "height": 68
        },
        "outputId": "56d671dc-6960-403c-e7fe-0487d1ae3ae2"
      },
      "cell_type": "code",
      "source": [
        "!kaggle datasets download -d tohidul/food11"
      ],
      "execution_count": 0,
      "outputs": [
        {
          "output_type": "stream",
          "text": [
            "Downloading food11.zip to /content/.kaggle/datasets/tohidul/food11\n",
            "100%|██████████████████████████████████████▉| 1.37G/1.37G [00:15<00:00, 107MB/s]\n",
            "100%|██████████████████████████████████████| 1.37G/1.37G [00:15<00:00, 92.5MB/s]\n"
          ],
          "name": "stdout"
        }
      ]
    },
    {
      "metadata": {
        "id": "T6-UzDG-0jrx",
        "colab_type": "code",
        "colab": {}
      },
      "cell_type": "code",
      "source": [
        "import zipfile"
      ],
      "execution_count": 0,
      "outputs": []
    },
    {
      "metadata": {
        "id": "6m4-0_900kj2",
        "colab_type": "code",
        "colab": {}
      },
      "cell_type": "code",
      "source": [
        "zf = zipfile.ZipFile('/content/.kaggle/datasets/tohidul/food11/food11re.zip', \"r\")\n",
        "zf.extractall()"
      ],
      "execution_count": 0,
      "outputs": []
    },
    {
      "metadata": {
        "id": "UgGSSepKtDbR",
        "colab_type": "code",
        "colab": {
          "base_uri": "https://localhost:8080/",
          "height": 34
        },
        "outputId": "14c6d0eb-24df-4c3b-a643-275320f02f45"
      },
      "cell_type": "code",
      "source": [
        "from keras.models import Sequential, Model\n",
        "from keras.layers import Dense, Dropout, Activation, Flatten\n",
        "from keras.layers import Convolution2D, MaxPooling2D, ZeroPadding2D, GlobalAveragePooling2D, AveragePooling2D\n",
        "from keras.layers.normalization import BatchNormalization\n",
        "from keras.preprocessing.image import ImageDataGenerator\n",
        "from keras.callbacks import ModelCheckpoint, CSVLogger, LearningRateScheduler, ReduceLROnPlateau\n",
        "from keras.optimizers import SGD\n",
        "from keras.regularizers import l2\n",
        "import keras.backend as K\n",
        "import math"
      ],
      "execution_count": 0,
      "outputs": [
        {
          "output_type": "stream",
          "text": [
            "Using TensorFlow backend.\n"
          ],
          "name": "stderr"
        }
      ]
    },
    {
      "metadata": {
        "id": "piu7Svnk3tn-",
        "colab_type": "code",
        "colab": {}
      },
      "cell_type": "code",
      "source": [
        "from keras import optimizers"
      ],
      "execution_count": 0,
      "outputs": []
    },
    {
      "metadata": {
        "id": "Wh0mEHAMI-a0",
        "colab_type": "code",
        "colab": {}
      },
      "cell_type": "code",
      "source": [
        "from keras.optimizers import Adam"
      ],
      "execution_count": 0,
      "outputs": []
    },
    {
      "metadata": {
        "id": "oWyNUwB0tI6F",
        "colab_type": "code",
        "colab": {}
      },
      "cell_type": "code",
      "source": [
        "train_data_dir = \"food11re/training\"\n",
        "val_data_dir = \"food11re/validation\"\n",
        "batch_size = 64\n",
        "n_classes = 11\n",
        "data_augmentor = ImageDataGenerator(\n",
        "    featurewise_center=False,  # set input mean to 0 over the dataset\n",
        "    samplewise_center=False,  # set each sample mean to 0\n",
        "    featurewise_std_normalization=False,  # divide inputs by std of the dataset\n",
        "    samplewise_std_normalization=False,  # divide each input by its std\n",
        "    zca_whitening=False,  # apply ZCA whitening\n",
        "    rotation_range=0,  # randomly rotate images in the range (degrees, 0 to 180)\n",
        "    width_shift_range=0.2,  # randomly shift images horizontally (fraction of total width)\n",
        "    height_shift_range=0.2,  # randomly shift images vertically (fraction of total height)\n",
        "    horizontal_flip=True,  # randomly flip images\n",
        "    vertical_flip=False, # randomly flip images\n",
        "    zoom_range=[.8, 1],\n",
        "    channel_shift_range=30,\n",
        "    fill_mode='reflect')\n",
        "target_size = (224, 224)\n",
        "target_dims = (224, 224, 3)"
      ],
      "execution_count": 0,
      "outputs": []
    },
    {
      "metadata": {
        "id": "NXlVTB5XuL4M",
        "colab_type": "code",
        "colab": {
          "base_uri": "https://localhost:8080/",
          "height": 34
        },
        "outputId": "a15e05ee-bf94-43ed-e43c-6a7553411a82"
      },
      "cell_type": "code",
      "source": [
        "train_generator = data_augmentor.flow_from_directory(train_data_dir, target_size=target_size, batch_size=batch_size, shuffle=True)"
      ],
      "execution_count": 0,
      "outputs": [
        {
          "output_type": "stream",
          "text": [
            "Found 9866 images belonging to 11 classes.\n"
          ],
          "name": "stdout"
        }
      ]
    },
    {
      "metadata": {
        "id": "_T0RJ8dpuPOT",
        "colab_type": "code",
        "colab": {
          "base_uri": "https://localhost:8080/",
          "height": 34
        },
        "outputId": "77d4403c-916e-45ae-efec-3c8201333ad1"
      },
      "cell_type": "code",
      "source": [
        "val_generator = data_augmentor.flow_from_directory(val_data_dir, target_size=target_size, batch_size=batch_size)"
      ],
      "execution_count": 0,
      "outputs": [
        {
          "output_type": "stream",
          "text": [
            "Found 3430 images belonging to 11 classes.\n"
          ],
          "name": "stdout"
        }
      ]
    },
    {
      "metadata": {
        "id": "QY7DMj4juW56",
        "colab_type": "code",
        "colab": {}
      },
      "cell_type": "code",
      "source": [
        "nb_classes = 11"
      ],
      "execution_count": 0,
      "outputs": []
    },
    {
      "metadata": {
        "id": "cNpR2aa-talR",
        "colab_type": "code",
        "colab": {}
      },
      "cell_type": "code",
      "source": [
        "model = Sequential()\n",
        "model.add(Convolution2D(32, (3,3), padding='same', input_shape=target_dims))\n",
        "model.add(Activation(\"relu\"))\n",
        "model.add(BatchNormalization(axis=-1))\n",
        "model.add(MaxPooling2D(pool_size=(3, 3)))\n",
        "model.add(Dropout(0.25))\n",
        "model.add(Convolution2D(64, (3, 3), padding=\"same\"))\n",
        "model.add(Activation(\"relu\"))\n",
        "model.add(BatchNormalization(axis=-1))\n",
        "model.add(Convolution2D(64, (3, 3), padding=\"same\"))\n",
        "model.add(Activation(\"relu\"))\n",
        "model.add(BatchNormalization(axis=-1))\n",
        "model.add(MaxPooling2D(pool_size=(2, 2)))\n",
        "model.add(Dropout(0.25))\n",
        "model.add(Convolution2D(128, (3, 3), padding=\"same\"))\n",
        "model.add(Activation(\"relu\"))\n",
        "model.add(BatchNormalization(axis=-1))\n",
        "model.add(Convolution2D(128, (3, 3), padding=\"same\"))\n",
        "model.add(Activation(\"relu\"))\n",
        "model.add(BatchNormalization(axis=-1))\n",
        "model.add(MaxPooling2D(pool_size=(2, 2)))\n",
        "model.add(Dropout(0.25))\n",
        "\n",
        "model.add(Flatten())\n",
        "model.add(Dense(1024))\n",
        "model.add(Activation(\"relu\"))\n",
        "model.add(BatchNormalization())\n",
        "model.add(Dropout(0.5))\n",
        "\n",
        "model.add(Dense(11))\n",
        "model.add(Activation(\"softmax\"))\n",
        "    "
      ],
      "execution_count": 0,
      "outputs": []
    },
    {
      "metadata": {
        "id": "k2l6dOgeIduc",
        "colab_type": "code",
        "colab": {}
      },
      "cell_type": "code",
      "source": [
        "epochs = 100"
      ],
      "execution_count": 0,
      "outputs": []
    },
    {
      "metadata": {
        "id": "CyLrIIpdIYTS",
        "colab_type": "code",
        "colab": {}
      },
      "cell_type": "code",
      "source": [
        "opt = Adam(lr=1e-3, decay=1e-3 / epochs)\n",
        "model.compile(loss=\"categorical_crossentropy\", optimizer=opt,\n",
        "\tmetrics=[\"accuracy\"])"
      ],
      "execution_count": 0,
      "outputs": []
    },
    {
      "metadata": {
        "id": "7X4sfhLpuhit",
        "colab_type": "code",
        "colab": {}
      },
      "cell_type": "code",
      "source": [
        "nb_epochs = 30"
      ],
      "execution_count": 0,
      "outputs": []
    },
    {
      "metadata": {
        "id": "M2Zp9kjzvwUe",
        "colab_type": "code",
        "colab": {}
      },
      "cell_type": "code",
      "source": [
        "import keras"
      ],
      "execution_count": 0,
      "outputs": []
    },
    {
      "metadata": {
        "id": "jNVHLTMQuECx",
        "colab_type": "code",
        "colab": {}
      },
      "cell_type": "code",
      "source": [
        "\n",
        "opt = SGD(lr=.01, momentum=.9)\n",
        "model.compile(optimizer=opt, loss='categorical_crossentropy', metrics=['accuracy'])"
      ],
      "execution_count": 0,
      "outputs": []
    },
    {
      "metadata": {
        "id": "Vy2Ujhfq3UqW",
        "colab_type": "code",
        "colab": {}
      },
      "cell_type": "code",
      "source": [
        "sgd = optimizers.SGD(lr=0.3, decay=1e-6, momentum=0.7, nesterov=True)\n",
        "model.compile(loss='mean_squared_error', optimizer=sgd, metrics=['acc'])"
      ],
      "execution_count": 0,
      "outputs": []
    },
    {
      "metadata": {
        "id": "7EtZbDigyKsx",
        "colab_type": "code",
        "colab": {
          "base_uri": "https://localhost:8080/",
          "height": 34
        },
        "outputId": "85ad5244-a2ad-4714-81a0-1e7bb735bf81"
      },
      "cell_type": "code",
      "source": [
        "print(train_generator.n/train_generator.batch_size)"
      ],
      "execution_count": 0,
      "outputs": [
        {
          "output_type": "stream",
          "text": [
            "154.15625\n"
          ],
          "name": "stdout"
        }
      ]
    },
    {
      "metadata": {
        "id": "_dZ-yy1wxZwX",
        "colab_type": "code",
        "colab": {}
      },
      "cell_type": "code",
      "source": [
        "STEP_SIZE_TRAIN=train_generator.n//train_generator.batch_size\n",
        "STEP_SIZE_VALID=val_generator.n//val_generator.batch_size"
      ],
      "execution_count": 0,
      "outputs": []
    },
    {
      "metadata": {
        "id": "UxFi-4Eyya5K",
        "colab_type": "code",
        "colab": {}
      },
      "cell_type": "code",
      "source": [
        "STEP_SIZE_TRAIN=64\n",
        "STEP_SIZE_VALID=64"
      ],
      "execution_count": 0,
      "outputs": []
    },
    {
      "metadata": {
        "id": "PlWW9gWJuFVj",
        "colab_type": "code",
        "colab": {
          "base_uri": "https://localhost:8080/",
          "height": 3454
        },
        "outputId": "badb3994-d75d-40f1-ff6a-67b7d1189d63"
      },
      "cell_type": "code",
      "source": [
        "model.fit_generator(train_generator,\n",
        "          steps_per_epoch=STEP_SIZE_TRAIN,\n",
        "          validation_steps=STEP_SIZE_VALID,      \n",
        "          validation_data=(val_generator),\n",
        "                    verbose = 1,\n",
        "                   epochs=epochs)"
      ],
      "execution_count": 0,
      "outputs": [
        {
          "output_type": "stream",
          "text": [
            "Epoch 1/100\n",
            "154/154 [==============================] - 265s 2s/step - loss: 2.7169 - acc: 0.2142 - val_loss: 2.6811 - val_acc: 0.2580\n",
            "Epoch 2/100\n",
            "154/154 [==============================] - 267s 2s/step - loss: 2.5108 - acc: 0.2518 - val_loss: 2.4135 - val_acc: 0.2538\n",
            "Epoch 3/100\n",
            "139/154 [==========================>...] - ETA: 19s - loss: 2.3270 - acc: 0.2889"
          ],
          "name": "stdout"
        },
        {
          "output_type": "stream",
          "text": [
            "154/154 [==============================] - 267s 2s/step - loss: 2.3187 - acc: 0.2881 - val_loss: 2.4032 - val_acc: 0.3101\n",
            "Epoch 4/100\n",
            "154/154 [==============================] - 275s 2s/step - loss: 2.1824 - acc: 0.3071 - val_loss: 2.2179 - val_acc: 0.2736\n",
            "Epoch 5/100\n",
            "154/154 [==============================] - 275s 2s/step - loss: 2.0396 - acc: 0.3456 - val_loss: 2.5067 - val_acc: 0.2624\n",
            "Epoch 6/100\n",
            " 22/154 [===>..........................] - ETA: 2:25 - loss: 1.9712 - acc: 0.3665"
          ],
          "name": "stdout"
        },
        {
          "output_type": "stream",
          "text": [
            "154/154 [==============================] - 268s 2s/step - loss: 1.9834 - acc: 0.3627 - val_loss: 1.9386 - val_acc: 0.3520\n",
            "Epoch 7/100\n",
            "154/154 [==============================] - 272s 2s/step - loss: 1.8533 - acc: 0.3694 - val_loss: 1.7637 - val_acc: 0.3989\n",
            "Epoch 8/100\n",
            "154/154 [==============================] - 277s 2s/step - loss: 1.7527 - acc: 0.4005 - val_loss: 5.2780 - val_acc: 0.1784\n",
            "Epoch 9/100\n",
            "  3/154 [..............................] - ETA: 57s - loss: 1.7412 - acc: 0.3438"
          ],
          "name": "stdout"
        },
        {
          "output_type": "stream",
          "text": [
            "154/154 [==============================] - 270s 2s/step - loss: 1.7428 - acc: 0.4136 - val_loss: 4.4441 - val_acc: 0.1639\n",
            "Epoch 10/100\n",
            "154/154 [==============================] - 270s 2s/step - loss: 1.7371 - acc: 0.4017 - val_loss: 1.6986 - val_acc: 0.4180\n",
            "Epoch 11/100\n",
            "154/154 [==============================] - 275s 2s/step - loss: 1.6246 - acc: 0.4427 - val_loss: 3.7215 - val_acc: 0.1524\n"
          ],
          "name": "stdout"
        },
        {
          "output_type": "stream",
          "text": [
            "Epoch 12/100\n",
            "154/154 [==============================] - 277s 2s/step - loss: 1.6382 - acc: 0.4406 - val_loss: 1.5192 - val_acc: 0.4932\n",
            "Epoch 13/100\n",
            "154/154 [==============================] - 271s 2s/step - loss: 1.5084 - acc: 0.4868 - val_loss: 2.5842 - val_acc: 0.2925\n",
            "Epoch 14/100\n",
            "137/154 [=========================>....] - ETA: 20s - loss: 1.4637 - acc: 0.5000"
          ],
          "name": "stdout"
        },
        {
          "output_type": "stream",
          "text": [
            "154/154 [==============================] - 266s 2s/step - loss: 1.4611 - acc: 0.5018 - val_loss: 2.2306 - val_acc: 0.3659\n",
            "Epoch 15/100\n",
            "154/154 [==============================] - 268s 2s/step - loss: 1.4395 - acc: 0.5079 - val_loss: 2.3810 - val_acc: 0.3323\n",
            "Epoch 16/100\n",
            "154/154 [==============================] - 270s 2s/step - loss: 1.3355 - acc: 0.5403 - val_loss: 1.6355 - val_acc: 0.4493\n",
            "Epoch 17/100\n",
            " 21/154 [===>..........................] - ETA: 1:36 - loss: 1.3303 - acc: 0.5365"
          ],
          "name": "stdout"
        },
        {
          "output_type": "stream",
          "text": [
            "154/154 [==============================] - 268s 2s/step - loss: 1.3179 - acc: 0.5483 - val_loss: 1.6371 - val_acc: 0.4764\n",
            "Epoch 18/100\n",
            "154/154 [==============================] - 266s 2s/step - loss: 1.2819 - acc: 0.5637 - val_loss: 1.8172 - val_acc: 0.4298\n",
            "Epoch 19/100\n",
            "154/154 [==============================] - 269s 2s/step - loss: 1.2455 - acc: 0.5761 - val_loss: 1.3738 - val_acc: 0.5389\n",
            "Epoch 20/100\n",
            "  2/154 [..............................] - ETA: 59s - loss: 1.2429 - acc: 0.5703 "
          ],
          "name": "stdout"
        },
        {
          "output_type": "stream",
          "text": [
            "154/154 [==============================] - 269s 2s/step - loss: 1.2023 - acc: 0.5915 - val_loss: 2.0860 - val_acc: 0.4310\n",
            "Epoch 21/100\n",
            "154/154 [==============================] - 266s 2s/step - loss: 1.2021 - acc: 0.5881 - val_loss: 1.8198 - val_acc: 0.4546\n",
            "Epoch 22/100\n",
            "153/154 [============================>.] - ETA: 1s - loss: 1.1965 - acc: 0.5890"
          ],
          "name": "stdout"
        },
        {
          "output_type": "stream",
          "text": [
            "\b\b\b\b\b\b\b\b\b\b\b\b\b\b\b\b\b\b\b\b\b\b\b\b\b\b\b\b\b\b\b\b\b\b\b\b\b\b\b\b\b\b\b\b\b\b\b\b\b\b\b\b\b\b\b\b\b\b\b\b\b\b\b\b\b\b\b\b\b\b\b\b\b\b\b\b\b\b\b\r154/154 [==============================] - 264s 2s/step - loss: 1.1951 - acc: 0.5894 - val_loss: 1.9977 - val_acc: 0.4360\n",
            "Epoch 23/100\n",
            "154/154 [==============================] - 269s 2s/step - loss: 1.2012 - acc: 0.5929 - val_loss: 4.5352 - val_acc: 0.2491\n",
            "Epoch 24/100\n",
            "124/154 [=======================>......] - ETA: 36s - loss: 1.1974 - acc: 0.5954"
          ],
          "name": "stdout"
        },
        {
          "output_type": "stream",
          "text": [
            "154/154 [==============================] - 271s 2s/step - loss: 1.1677 - acc: 0.6058 - val_loss: 1.5068 - val_acc: 0.5436\n",
            "Epoch 25/100\n",
            "154/154 [==============================] - 266s 2s/step - loss: 1.1157 - acc: 0.6201 - val_loss: 1.4966 - val_acc: 0.5209\n",
            "Epoch 26/100\n",
            "154/154 [==============================] - 264s 2s/step - loss: 1.1214 - acc: 0.6166 - val_loss: 1.3516 - val_acc: 0.5516\n",
            "Epoch 27/100\n",
            " 19/154 [==>...........................] - ETA: 1:27 - loss: 1.1365 - acc: 0.6020"
          ],
          "name": "stdout"
        },
        {
          "output_type": "stream",
          "text": [
            "154/154 [==============================] - 266s 2s/step - loss: 1.0728 - acc: 0.6292 - val_loss: 1.7952 - val_acc: 0.4664\n",
            "Epoch 28/100\n",
            "154/154 [==============================] - 268s 2s/step - loss: 1.0349 - acc: 0.6475 - val_loss: 1.3481 - val_acc: 0.5631\n",
            "Epoch 29/100\n",
            "154/154 [==============================] - 268s 2s/step - loss: 0.9907 - acc: 0.6620 - val_loss: 1.2499 - val_acc: 0.6002\n",
            "Epoch 30/100\n",
            "  1/154 [..............................] - ETA: 1:01 - loss: 0.7628 - acc: 0.6875"
          ],
          "name": "stdout"
        },
        {
          "output_type": "stream",
          "text": [
            "154/154 [==============================] - 272s 2s/step - loss: 0.9930 - acc: 0.6631 - val_loss: 1.8364 - val_acc: 0.4956\n",
            "Epoch 31/100\n",
            "154/154 [==============================] - 272s 2s/step - loss: 0.9684 - acc: 0.6699 - val_loss: 1.3638 - val_acc: 0.5823\n",
            "Epoch 32/100\n",
            "153/154 [============================>.] - ETA: 1s - loss: 0.9714 - acc: 0.6735"
          ],
          "name": "stdout"
        },
        {
          "output_type": "stream",
          "text": [
            "\b\b\b\b\b\b\b\b\b\b\b\b\b\b\b\b\b\b\b\b\b\b\b\b\b\b\b\b\b\b\b\b\b\b\b\b\b\b\b\b\b\b\b\b\b\b\b\b\b\b\b\b\b\b\b\b\b\b\b\b\b\b\b\b\b\b\b\b\b\b\b\b\b\b\b\b\b\b\b\r154/154 [==============================] - 267s 2s/step - loss: 0.9726 - acc: 0.6733 - val_loss: 2.0439 - val_acc: 0.4705\n",
            "Epoch 33/100\n",
            "154/154 [==============================] - 270s 2s/step - loss: 1.0018 - acc: 0.6596 - val_loss: 1.6760 - val_acc: 0.5218\n",
            "Epoch 34/100\n",
            "124/154 [=======================>......] - ETA: 36s - loss: 1.0097 - acc: 0.6540"
          ],
          "name": "stdout"
        },
        {
          "output_type": "stream",
          "text": [
            "154/154 [==============================] - 268s 2s/step - loss: 1.0007 - acc: 0.6569 - val_loss: 1.5500 - val_acc: 0.5360\n",
            "Epoch 35/100\n",
            "154/154 [==============================] - 267s 2s/step - loss: 0.9139 - acc: 0.6860 - val_loss: 1.3465 - val_acc: 0.5858\n",
            "Epoch 36/100\n",
            "154/154 [==============================] - 268s 2s/step - loss: 0.8749 - acc: 0.7053 - val_loss: 2.1184 - val_acc: 0.4705\n",
            "Epoch 37/100\n",
            " 19/154 [==>...........................] - ETA: 1:33 - loss: 1.0097 - acc: 0.6660"
          ],
          "name": "stdout"
        },
        {
          "output_type": "stream",
          "text": [
            "154/154 [==============================] - 267s 2s/step - loss: 0.8892 - acc: 0.6997 - val_loss: 1.5102 - val_acc: 0.5587\n",
            "Epoch 38/100\n",
            "154/154 [==============================] - 267s 2s/step - loss: 0.8181 - acc: 0.7220 - val_loss: 1.3389 - val_acc: 0.6014\n",
            "Epoch 39/100\n",
            "154/154 [==============================] - 270s 2s/step - loss: 0.8769 - acc: 0.6997 - val_loss: 1.0651 - val_acc: 0.6557\n",
            "Epoch 40/100\n",
            "  1/154 [..............................] - ETA: 1:00 - loss: 0.9080 - acc: 0.6875"
          ],
          "name": "stdout"
        },
        {
          "output_type": "stream",
          "text": [
            "154/154 [==============================] - 268s 2s/step - loss: 0.8167 - acc: 0.7184 - val_loss: 2.3927 - val_acc: 0.4688\n",
            "Epoch 41/100\n",
            "154/154 [==============================] - 267s 2s/step - loss: 0.7621 - acc: 0.7372 - val_loss: 1.1933 - val_acc: 0.6394\n",
            "Epoch 42/100\n",
            "153/154 [============================>.] - ETA: 1s - loss: 0.8428 - acc: 0.7125"
          ],
          "name": "stdout"
        },
        {
          "output_type": "stream",
          "text": [
            "\b\b\b\b\b\b\b\b\b\b\b\b\b\b\b\b\b\b\b\b\b\b\b\b\b\b\b\b\b\b\b\b\b\b\b\b\b\b\b\b\b\b\b\b\b\b\b\b\b\b\b\b\b\b\b\b\b\b\b\b\b\b\b\b\b\b\b\b\b\b\b\b\b\b\b\b\b\b\b\r154/154 [==============================] - 270s 2s/step - loss: 0.8429 - acc: 0.7124 - val_loss: 1.7539 - val_acc: 0.5180\n",
            "Epoch 43/100\n",
            "154/154 [==============================] - 265s 2s/step - loss: 0.7836 - acc: 0.7356 - val_loss: 1.0072 - val_acc: 0.6775\n",
            "Epoch 44/100\n",
            "124/154 [=======================>......] - ETA: 36s - loss: 0.7741 - acc: 0.7337"
          ],
          "name": "stdout"
        },
        {
          "output_type": "stream",
          "text": [
            "154/154 [==============================] - 270s 2s/step - loss: 0.7652 - acc: 0.7358 - val_loss: 1.0370 - val_acc: 0.6828\n",
            "Epoch 45/100\n",
            "154/154 [==============================] - 271s 2s/step - loss: 0.8207 - acc: 0.7223 - val_loss: 2.6487 - val_acc: 0.3659\n",
            "Epoch 46/100\n",
            "154/154 [==============================] - 269s 2s/step - loss: 0.8874 - acc: 0.6986 - val_loss: 1.4637 - val_acc: 0.5823\n",
            "Epoch 47/100\n",
            " 19/154 [==>...........................] - ETA: 1:25 - loss: 0.7912 - acc: 0.7278"
          ],
          "name": "stdout"
        },
        {
          "output_type": "stream",
          "text": [
            "154/154 [==============================] - 262s 2s/step - loss: 0.7559 - acc: 0.7390 - val_loss: 1.4699 - val_acc: 0.5825\n",
            "Epoch 48/100\n",
            "154/154 [==============================] - 270s 2s/step - loss: 0.8382 - acc: 0.7178 - val_loss: 1.1391 - val_acc: 0.6539\n",
            "Epoch 49/100\n",
            "154/154 [==============================] - 270s 2s/step - loss: 0.7554 - acc: 0.7402 - val_loss: 0.9792 - val_acc: 0.7011\n",
            "Epoch 50/100\n",
            "  1/154 [..............................] - ETA: 1:00 - loss: 0.8584 - acc: 0.7344"
          ],
          "name": "stdout"
        },
        {
          "output_type": "stream",
          "text": [
            "154/154 [==============================] - 276s 2s/step - loss: 0.7242 - acc: 0.7515 - val_loss: 1.3979 - val_acc: 0.6038\n",
            "Epoch 51/100\n",
            "154/154 [==============================] - 272s 2s/step - loss: 0.7233 - acc: 0.7466 - val_loss: 1.0911 - val_acc: 0.6801\n",
            "Epoch 52/100\n",
            "153/154 [============================>.] - ETA: 1s - loss: 0.8127 - acc: 0.7240"
          ],
          "name": "stdout"
        },
        {
          "output_type": "stream",
          "text": [
            "\b\b\b\b\b\b\b\b\b\b\b\b\b\b\b\b\b\b\b\b\b\b\b\b\b\b\b\b\b\b\b\b\b\b\b\b\b\b\b\b\b\b\b\b\b\b\b\b\b\b\b\b\b\b\b\b\b\b\b\b\b\b\b\b\b\b\b\b\b\b\b\b\b\b\b\b\b\b\b\r154/154 [==============================] - 267s 2s/step - loss: 0.8127 - acc: 0.7241 - val_loss: 1.2520 - val_acc: 0.6291\n",
            "Epoch 53/100\n",
            "154/154 [==============================] - 264s 2s/step - loss: 0.8112 - acc: 0.7230 - val_loss: 1.1141 - val_acc: 0.6595\n",
            "Epoch 54/100\n",
            "124/154 [=======================>......] - ETA: 35s - loss: 0.7278 - acc: 0.7541"
          ],
          "name": "stdout"
        },
        {
          "output_type": "stream",
          "text": [
            "154/154 [==============================] - 264s 2s/step - loss: 0.7102 - acc: 0.7588 - val_loss: 1.0084 - val_acc: 0.6975\n",
            "Epoch 55/100\n",
            "154/154 [==============================] - 268s 2s/step - loss: 0.6782 - acc: 0.7671 - val_loss: 1.1722 - val_acc: 0.6362\n",
            "Epoch 56/100\n",
            "154/154 [==============================] - 269s 2s/step - loss: 0.6815 - acc: 0.7710 - val_loss: 1.1467 - val_acc: 0.6539\n",
            "Epoch 57/100\n",
            " 19/154 [==>...........................] - ETA: 1:27 - loss: 0.6186 - acc: 0.7845"
          ],
          "name": "stdout"
        },
        {
          "output_type": "stream",
          "text": [
            "154/154 [==============================] - 265s 2s/step - loss: 0.6404 - acc: 0.7814 - val_loss: 1.4456 - val_acc: 0.6070\n",
            "Epoch 58/100\n",
            "154/154 [==============================] - 265s 2s/step - loss: 0.7122 - acc: 0.7539 - val_loss: 1.6515 - val_acc: 0.5646\n",
            "Epoch 59/100\n",
            "154/154 [==============================] - 269s 2s/step - loss: 0.6502 - acc: 0.7779 - val_loss: 1.3892 - val_acc: 0.6282\n",
            "Epoch 60/100\n",
            "  1/154 [..............................] - ETA: 58s - loss: 0.6257 - acc: 0.8125"
          ],
          "name": "stdout"
        },
        {
          "output_type": "stream",
          "text": [
            "154/154 [==============================] - 269s 2s/step - loss: 0.6946 - acc: 0.7648 - val_loss: 5.3274 - val_acc: 0.3379\n",
            "Epoch 61/100\n",
            "154/154 [==============================] - 268s 2s/step - loss: 0.7444 - acc: 0.7444 - val_loss: 2.2517 - val_acc: 0.4567\n",
            "Epoch 62/100\n",
            "153/154 [============================>.] - ETA: 1s - loss: 0.7146 - acc: 0.7554"
          ],
          "name": "stdout"
        },
        {
          "output_type": "stream",
          "text": [
            "\b\b\b\b\b\b\b\b\b\b\b\b\b\b\b\b\b\b\b\b\b\b\b\b\b\b\b\b\b\b\b\b\b\b\b\b\b\b\b\b\b\b\b\b\b\b\b\b\b\b\b\b\b\b\b\b\b\b\b\b\b\b\b\b\b\b\b\b\b\b\b\b\b\b\b\b\b\b\b\r154/154 [==============================] - 263s 2s/step - loss: 0.7143 - acc: 0.7558 - val_loss: 1.0549 - val_acc: 0.6860\n",
            "Epoch 63/100\n",
            "154/154 [==============================] - 270s 2s/step - loss: 0.6867 - acc: 0.7655 - val_loss: 1.0591 - val_acc: 0.6757\n",
            "Epoch 64/100\n",
            "124/154 [=======================>......] - ETA: 35s - loss: 0.7357 - acc: 0.7503"
          ],
          "name": "stdout"
        },
        {
          "output_type": "stream",
          "text": [
            "154/154 [==============================] - 264s 2s/step - loss: 0.7331 - acc: 0.7506 - val_loss: 1.2915 - val_acc: 0.6362\n",
            "Epoch 65/100\n",
            "154/154 [==============================] - 267s 2s/step - loss: 0.6630 - acc: 0.7726 - val_loss: 1.0190 - val_acc: 0.6916\n",
            "Epoch 66/100\n",
            "154/154 [==============================] - 284s 2s/step - loss: 0.6025 - acc: 0.7919 - val_loss: 0.9986 - val_acc: 0.7114\n",
            "Epoch 67/100\n",
            " 19/154 [==>...........................] - ETA: 1:30 - loss: 0.6067 - acc: 0.8002"
          ],
          "name": "stdout"
        },
        {
          "output_type": "stream",
          "text": [
            "154/154 [==============================] - 266s 2s/step - loss: 0.5934 - acc: 0.8003 - val_loss: 1.0048 - val_acc: 0.7043\n",
            "Epoch 68/100\n",
            "154/154 [==============================] - 271s 2s/step - loss: 0.7017 - acc: 0.7632 - val_loss: 1.2741 - val_acc: 0.6262\n",
            "Epoch 69/100\n",
            "154/154 [==============================] - 272s 2s/step - loss: 0.7141 - acc: 0.7552 - val_loss: 1.4003 - val_acc: 0.6291\n",
            "Epoch 70/100\n",
            "  1/154 [..............................] - ETA: 1:03 - loss: 0.7731 - acc: 0.7500"
          ],
          "name": "stdout"
        },
        {
          "output_type": "stream",
          "text": [
            "154/154 [==============================] - 272s 2s/step - loss: 0.7951 - acc: 0.7336 - val_loss: 1.9328 - val_acc: 0.4561\n",
            "Epoch 71/100\n",
            "154/154 [==============================] - 276s 2s/step - loss: 0.8109 - acc: 0.7226 - val_loss: 1.4368 - val_acc: 0.6117\n",
            "Epoch 72/100\n",
            "153/154 [============================>.] - ETA: 1s - loss: 0.6589 - acc: 0.7775"
          ],
          "name": "stdout"
        },
        {
          "output_type": "stream",
          "text": [
            "\b\b\b\b\b\b\b\b\b\b\b\b\b\b\b\b\b\b\b\b\b\b\b\b\b\b\b\b\b\b\b\b\b\b\b\b\b\b\b\b\b\b\b\b\b\b\b\b\b\b\b\b\b\b\b\b\b\b\b\b\b\b\b\b\b\b\b\b\b\b\b\b\b\b\b\b\b\b\b\r154/154 [==============================] - 279s 2s/step - loss: 0.6581 - acc: 0.7776 - val_loss: 0.9081 - val_acc: 0.7211\n",
            "Epoch 73/100\n",
            "154/154 [==============================] - 266s 2s/step - loss: 0.6117 - acc: 0.7944 - val_loss: 1.1425 - val_acc: 0.6542\n",
            "Epoch 74/100\n",
            "124/154 [=======================>......] - ETA: 37s - loss: 0.6037 - acc: 0.7913"
          ],
          "name": "stdout"
        },
        {
          "output_type": "stream",
          "text": [
            "154/154 [==============================] - 269s 2s/step - loss: 0.5936 - acc: 0.7957 - val_loss: 0.8895 - val_acc: 0.7279\n",
            "Epoch 75/100\n",
            "154/154 [==============================] - 270s 2s/step - loss: 0.5567 - acc: 0.8072 - val_loss: 0.8439 - val_acc: 0.7417\n",
            "Epoch 76/100\n",
            "154/154 [==============================] - 267s 2s/step - loss: 0.5590 - acc: 0.8074 - val_loss: 1.3696 - val_acc: 0.6150\n",
            "Epoch 77/100\n",
            " 19/154 [==>...........................] - ETA: 1:27 - loss: 0.5771 - acc: 0.8035"
          ],
          "name": "stdout"
        },
        {
          "output_type": "stream",
          "text": [
            "154/154 [==============================] - 264s 2s/step - loss: 0.5675 - acc: 0.8050 - val_loss: 0.8764 - val_acc: 0.7267\n",
            "Epoch 78/100\n",
            "154/154 [==============================] - 266s 2s/step - loss: 0.5737 - acc: 0.8012 - val_loss: 1.1035 - val_acc: 0.6804\n",
            "Epoch 79/100\n",
            "154/154 [==============================] - 270s 2s/step - loss: 0.5558 - acc: 0.8098 - val_loss: 1.1106 - val_acc: 0.6828\n",
            "Epoch 80/100\n",
            "  1/154 [..............................] - ETA: 59s - loss: 0.3349 - acc: 0.8750"
          ],
          "name": "stdout"
        },
        {
          "output_type": "stream",
          "text": [
            "154/154 [==============================] - 270s 2s/step - loss: 0.5600 - acc: 0.8069 - val_loss: 1.3337 - val_acc: 0.6471\n",
            "Epoch 81/100\n",
            "154/154 [==============================] - 267s 2s/step - loss: 0.5662 - acc: 0.8037 - val_loss: 2.5067 - val_acc: 0.4926\n",
            "Epoch 82/100\n",
            "153/154 [============================>.] - ETA: 1s - loss: 0.6316 - acc: 0.7863"
          ],
          "name": "stdout"
        },
        {
          "output_type": "stream",
          "text": [
            "\b\b\b\b\b\b\b\b\b\b\b\b\b\b\b\b\b\b\b\b\b\b\b\b\b\b\b\b\b\b\b\b\b\b\b\b\b\b\b\b\b\b\b\b\b\b\b\b\b\b\b\b\b\b\b\b\b\b\b\b\b\b\b\b\b\b\b\b\b\b\b\b\b\b\b\b\b\b\b\r154/154 [==============================] - 266s 2s/step - loss: 0.6314 - acc: 0.7863 - val_loss: 1.3428 - val_acc: 0.6170\n",
            "Epoch 83/100\n",
            "154/154 [==============================] - 275s 2s/step - loss: 0.5762 - acc: 0.8017 - val_loss: 0.9319 - val_acc: 0.7252\n",
            "Epoch 84/100\n",
            "124/154 [=======================>......] - ETA: 36s - loss: 0.5436 - acc: 0.8115"
          ],
          "name": "stdout"
        },
        {
          "output_type": "stream",
          "text": [
            "154/154 [==============================] - 273s 2s/step - loss: 0.5444 - acc: 0.8105 - val_loss: 0.8830 - val_acc: 0.7353\n",
            "Epoch 85/100\n",
            "154/154 [==============================] - 265s 2s/step - loss: 0.6778 - acc: 0.7674 - val_loss: 1.0831 - val_acc: 0.6881\n",
            "Epoch 86/100\n",
            "154/154 [==============================] - 264s 2s/step - loss: 0.5566 - acc: 0.8047 - val_loss: 1.0188 - val_acc: 0.6881\n",
            "Epoch 87/100\n",
            " 19/154 [==>...........................] - ETA: 1:28 - loss: 0.5324 - acc: 0.8232"
          ],
          "name": "stdout"
        },
        {
          "output_type": "stream",
          "text": [
            "154/154 [==============================] - 271s 2s/step - loss: 0.5356 - acc: 0.8201 - val_loss: 0.9050 - val_acc: 0.7300\n",
            "Epoch 88/100\n",
            "154/154 [==============================] - 260s 2s/step - loss: 0.5748 - acc: 0.8011 - val_loss: 1.0573 - val_acc: 0.7129\n",
            "Epoch 89/100\n",
            "154/154 [==============================] - 272s 2s/step - loss: 0.5421 - acc: 0.8126 - val_loss: 1.0763 - val_acc: 0.6978\n",
            "Epoch 90/100\n",
            "  1/154 [..............................] - ETA: 1:00 - loss: 0.5349 - acc: 0.7969"
          ],
          "name": "stdout"
        },
        {
          "output_type": "stream",
          "text": [
            "154/154 [==============================] - 265s 2s/step - loss: 0.4992 - acc: 0.8320 - val_loss: 1.0412 - val_acc: 0.6955\n",
            "Epoch 91/100\n",
            "154/154 [==============================] - 270s 2s/step - loss: 0.5205 - acc: 0.8207 - val_loss: 1.2459 - val_acc: 0.6583\n",
            "Epoch 92/100\n",
            "153/154 [============================>.] - ETA: 1s - loss: 0.5995 - acc: 0.7972"
          ],
          "name": "stdout"
        },
        {
          "output_type": "stream",
          "text": [
            "\b\b\b\b\b\b\b\b\b\b\b\b\b\b\b\b\b\b\b\b\b\b\b\b\b\b\b\b\b\b\b\b\b\b\b\b\b\b\b\b\b\b\b\b\b\b\b\b\b\b\b\b\b\b\b\b\b\b\b\b\b\b\b\b\b\b\b\b\b\b\b\b\b\b\b\b\b\b\b\r154/154 [==============================] - 264s 2s/step - loss: 0.5984 - acc: 0.7978 - val_loss: 1.1725 - val_acc: 0.6601\n",
            "Epoch 93/100\n",
            "154/154 [==============================] - 270s 2s/step - loss: 0.4909 - acc: 0.8303 - val_loss: 0.8736 - val_acc: 0.7409\n",
            "Epoch 94/100\n",
            "124/154 [=======================>......] - ETA: 36s - loss: 0.5694 - acc: 0.8105"
          ],
          "name": "stdout"
        },
        {
          "output_type": "stream",
          "text": [
            "154/154 [==============================] - 269s 2s/step - loss: 0.5521 - acc: 0.8144 - val_loss: 0.8727 - val_acc: 0.7388\n",
            "Epoch 95/100\n",
            "154/154 [==============================] - 268s 2s/step - loss: 0.5307 - acc: 0.8239 - val_loss: 1.1954 - val_acc: 0.6654\n",
            "Epoch 96/100\n",
            "154/154 [==============================] - 270s 2s/step - loss: 0.4668 - acc: 0.8466 - val_loss: 0.9634 - val_acc: 0.7155\n",
            "Epoch 97/100\n",
            " 19/154 [==>...........................] - ETA: 1:28 - loss: 0.4533 - acc: 0.8470"
          ],
          "name": "stdout"
        },
        {
          "output_type": "stream",
          "text": [
            "154/154 [==============================] - 265s 2s/step - loss: 0.4921 - acc: 0.8297 - val_loss: 1.5124 - val_acc: 0.6362\n",
            "Epoch 98/100\n",
            "154/154 [==============================] - 265s 2s/step - loss: 0.4823 - acc: 0.8319 - val_loss: 0.8942 - val_acc: 0.7426\n",
            "Epoch 99/100\n",
            "154/154 [==============================] - 271s 2s/step - loss: 0.4654 - acc: 0.8402 - val_loss: 1.0037 - val_acc: 0.7185\n",
            "Epoch 100/100\n",
            "  1/154 [..............................] - ETA: 1:00 - loss: 0.4879 - acc: 0.8125"
          ],
          "name": "stdout"
        },
        {
          "output_type": "stream",
          "text": [
            "154/154 [==============================] - 268s 2s/step - loss: 0.4552 - acc: 0.8463 - val_loss: 0.9684 - val_acc: 0.7226\n"
          ],
          "name": "stdout"
        },
        {
          "output_type": "execute_result",
          "data": {
            "text/plain": [
              "<keras.callbacks.History at 0x7f0adcc35438>"
            ]
          },
          "metadata": {
            "tags": []
          },
          "execution_count": 37
        }
      ]
    }
  ]
}